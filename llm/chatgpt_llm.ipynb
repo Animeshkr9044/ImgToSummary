{
 "cells": [
  {
   "cell_type": "code",
   "execution_count": 2,
   "metadata": {},
   "outputs": [],
   "source": [
    "import getpass\n",
    "\n",
    "Open_api_key = getpass.getpass(\"Enter Open aI key\")\n"
   ]
  },
  {
   "cell_type": "code",
   "execution_count": 3,
   "metadata": {},
   "outputs": [],
   "source": [
    "from openai import OpenAI\n",
    "\n"
   ]
  },
  {
   "cell_type": "code",
   "execution_count": 5,
   "metadata": {},
   "outputs": [],
   "source": [
    "client = OpenAI(api_key=Open_api_key)"
   ]
  },
  {
   "cell_type": "code",
   "execution_count": 6,
   "metadata": {},
   "outputs": [],
   "source": [
    "MODEL = \"gpt-4o\""
   ]
  },
  {
   "cell_type": "code",
   "execution_count": 7,
   "metadata": {},
   "outputs": [],
   "source": [
    "client = OpenAI(api_key=Open_api_key)\n",
    "MODEL = \"gpt-4o\"\n",
    "\n",
    "# Example usage with the API (modify according to your actual usage)\n",
    "response = client.chat.completions.create(\n",
    "    model=MODEL,\n",
    "    messages=[\n",
    "        {\"role\": \"system\", \"content\": \"You are a helpful assistant\"},\n",
    "        {\"role\": \"user\", \"content\": \"\"\"\n",
    "        summarise this text in not more than 100 words try to campture each real details \n",
    "\n",
    "         text = f\"{text_from_croped_image}\"\n",
    "        \"\"\"}\n",
    "    ],\n",
    "    temperature=0.0,\n",
    ")\n",
    "\n",
    "output = response.choices[0].message.content.lstrip('```json').rstrip('```')"
   ]
  },
  {
   "cell_type": "code",
   "execution_count": 8,
   "metadata": {},
   "outputs": [
    {
     "name": "stdout",
     "output_type": "stream",
     "text": [
      "\n",
      "{\n",
      "  \"summary\": \"Please provide the text from the cropped image so I can summarize it for you.\"\n",
      "}\n",
      "\n"
     ]
    }
   ],
   "source": [
    "print(output)"
   ]
  },
  {
   "cell_type": "code",
   "execution_count": 9,
   "metadata": {},
   "outputs": [],
   "source": [
    "def summarize_text(text, client, MODEL):\n",
    "    response = client.chat.completions.create(\n",
    "        model=MODEL,\n",
    "        messages=[\n",
    "            {\"role\": \"system\", \"content\": \"You are a helpful assistant\"},\n",
    "            {\"role\": \"user\", \"content\": f\"Summarize this text in not more than 100 words trying to capture each real detail: {text}\"}\n",
    "        ],\n",
    "        temperature=0.0,\n",
    "    )\n",
    "\n",
    "    output = response.choices[0].message.content.lstrip('```json').rstrip('```')\n",
    "    return output\n"
   ]
  },
  {
   "cell_type": "code",
   "execution_count": 10,
   "metadata": {},
   "outputs": [],
   "source": [
    "text_from_croped_image = \"\"\"'preliminari prospectu date januari 10 , 1984 1,650,000 unit _ advanc tobacco product , inc . consist 1,650,000 share common stock _ warrant purchas 825,000 share common stock unit offer herebi sold compani . unit consist one share common stock one warrant purchas one-half share common stock . share common stock warrant constitut unit separ transfer 90 day offer , earlier date may determin repres underwrit . see “ descript units. ” gistrat buy shall sate der secur law state . 4 even multipl warrant may exercis purchas share common stock initi exercis price § per whole share , subject adjust certain event . regist holder warrant may exercis warrant whole part , time date warrant becom separ transfer , 1986 , except certain circumst expir date may acceler compani . see “ descript warrants. ” ge commiss yet becom effect . tnformat sold may offer buy accept prior time prior offer . market compani ’ secur . estim initi public offer price approxim $ 6.50 per unit . see “ underwrit ” inform relat factor consid determin initi public offer price . secur involv high degre risk purchas may sustain loss total invest . see “ risk factors. ” © sell solicit offer secur state offer , solicit sale would unlaw prior registr qualif un secur approv disapprov secur exchang commiss commiss pass upon accuraci adequaci prospectu . represent contrari crimin offens . per unit ssssssessssususnnunnann ts . ts tot @ u ( 3 ) vasssssssnsnnenennenernnc ss ( 1 ) see “ underwrit ” inform concern indemnif underwrit unit purchas warrant sold repres underwrit . ( 2 ) deduct estim expens $ payabl compani . ( 3 ) compani grant underwrit option purchas addit 247,500 unit cover over-allot . unit purchas , total price public , underwrit discount proce compani $ 338 $ , tespect . see “ underwriting. ” prospectu also cover 4,692,122 share common stock issu connect acquisit . see “ company. ” . proce compani ( 2 ) underwrit discount ( 1 ) unit offer sever underwrit , deliv accept underwrit subject certain condit , includ right reject order whole part . expect deliveri unit made payment therefor dalla , texa , 1984 , registr statement relat secur file secur exchan contain herein subject complet amend . secur statement becom effect . prospectu shall constitut offer schneider , bernet & hickman , inc. februari , 1984 ovospsoss 650548040 produc béw web site' \"\"\""
   ]
  },
  {
   "cell_type": "code",
   "execution_count": 11,
   "metadata": {},
   "outputs": [
    {
     "name": "stdout",
     "output_type": "stream",
     "text": [
      "The preliminary prospectus dated January 10, 1984, details the offering of 1,650,000 units by Advance Tobacco Products, Inc., each consisting of one share of common stock and one warrant to purchase half a share of common stock. The units will be sold by the company and can be separately transferred 90 days after the offer. The initial public offering price is approximately $6.50 per unit. The warrants can be exercised at a price per whole share, subject to adjustments, until 1986. The offering involves high risk, and the SEC has not yet approved the prospectus. The company has granted underwriters an option to purchase an additional 247,500 units.\n"
     ]
    }
   ],
   "source": [
    "text_summary = summarize_text(text_from_croped_image, client, MODEL)\n",
    "print(text_summary)\n"
   ]
  },
  {
   "cell_type": "markdown",
   "metadata": {},
   "source": [
    "Production code\n"
   ]
  },
  {
   "cell_type": "markdown",
   "metadata": {},
   "source": [
    "This is something will be adressed in the lalter part of the code or later version to calculate cost of each api call base on the input and output tokens "
   ]
  },
  {
   "cell_type": "code",
   "execution_count": null,
   "metadata": {},
   "outputs": [],
   "source": [
    "\n"
   ]
  },
  {
   "cell_type": "code",
   "execution_count": 21,
   "metadata": {},
   "outputs": [],
   "source": [
    "\n",
    "def summarize_text_openai(text, client, MODEL):\n",
    "    response = client.chat.completions.create(\n",
    "        model=MODEL,\n",
    "        messages=[\n",
    "            {\"role\": \"system\", \"content\": \"You are a helpful assistant\"},\n",
    "            {\"role\": \"user\", \"content\": f\"Summarize this text in not more than 100 words trying to capture each real detail: {text}\"}\n",
    "        ],\n",
    "        temperature=0.0,\n",
    "    )\n",
    "\n",
    "    output = response.choices[0].message.content.lstrip('```json').rstrip('```')\n",
    "    return output\n"
   ]
  },
  {
   "cell_type": "code",
   "execution_count": 23,
   "metadata": {},
   "outputs": [
    {
     "name": "stdout",
     "output_type": "stream",
     "text": [
      "The preliminary prospectus dated January 10, 1984, details the offering of 1,650,000 units by Advanced Tobacco Products, Inc., each consisting of one share of common stock and one warrant to purchase half a share of common stock. The units will be sold by the company and can be separately transferred 90 days after the offer. The initial public offering price is approximately $6.50 per unit. The warrants can be exercised at a price per whole share, subject to adjustments, until 1986. The offering involves high risk, and the SEC has not yet approved the prospectus. The company has granted underwriters an option to purchase an additional 247,500 units.\n"
     ]
    }
   ],
   "source": [
    "text_summary = summarize_text_openai(text_from_croped_image, client, MODEL)\n",
    "print(text_summary)\n"
   ]
  },
  {
   "cell_type": "code",
   "execution_count": null,
   "metadata": {},
   "outputs": [],
   "source": []
  },
  {
   "cell_type": "code",
   "execution_count": null,
   "metadata": {},
   "outputs": [],
   "source": []
  },
  {
   "cell_type": "code",
   "execution_count": null,
   "metadata": {},
   "outputs": [],
   "source": []
  },
  {
   "cell_type": "code",
   "execution_count": 25,
   "metadata": {},
   "outputs": [],
   "source": [
    "import openai\n",
    "import os\n",
    "from dotenv import load_dotenv\n",
    "\n",
    "load_dotenv()  # take environment variables from .env.\n",
    "\n",
    "def summarize_text_using_openai(text, model=\"gpt-3.5-turbo\"):\n",
    "    openai.api_key = os.getenv(\"OPENAI_API_KEY\")\n",
    "\n",
    "    response = openai.ChatCompletion.create(\n",
    "        model=model,\n",
    "        messages=[\n",
    "            {\"role\": \"system\", \"content\": \"You are a helpful assistant\"},\n",
    "            {\"role\": \"user\", \"content\": f\"Summarize this text in not more than 100 words trying to capture each real detail: {text}\"}\n",
    "        ],\n",
    "        temperature=0.0,\n",
    "    )\n",
    "\n",
    "    output = response.choices[0].message.content.lstrip('```json').rstrip('```')\n",
    "    return output\n"
   ]
  },
  {
   "cell_type": "code",
   "execution_count": null,
   "metadata": {},
   "outputs": [],
   "source": []
  },
  {
   "cell_type": "code",
   "execution_count": 30,
   "metadata": {},
   "outputs": [],
   "source": [
    "import time\n",
    "\n",
    "def time_it(func):\n",
    "    def wrapper(*args, **kwargs):\n",
    "        start_time = time.time()\n",
    "        result = func(*args, **kwargs)\n",
    "        end_time = time.time()\n",
    "        elapsed_time = end_time - start_time\n",
    "        print(f'Function {func.__name__} took {elapsed_time:.6f} seconds to run')\n",
    "        return result\n",
    "    return wrapper"
   ]
  },
  {
   "cell_type": "code",
   "execution_count": 32,
   "metadata": {},
   "outputs": [
    {
     "name": "stderr",
     "output_type": "stream",
     "text": [
      "[nltk_data] Downloading package punkt to\n",
      "[nltk_data]     C:\\Users\\Anime\\AppData\\Roaming\\nltk_data...\n",
      "[nltk_data]   Package punkt is already up-to-date!\n",
      "[nltk_data] Downloading package stopwords to\n",
      "[nltk_data]     C:\\Users\\Anime\\AppData\\Roaming\\nltk_data...\n",
      "[nltk_data]   Package stopwords is already up-to-date!\n",
      "[nltk_data] Downloading package wordnet to\n",
      "[nltk_data]     C:\\Users\\Anime\\AppData\\Roaming\\nltk_data...\n",
      "[nltk_data]   Package wordnet is already up-to-date!\n"
     ]
    },
    {
     "name": "stdout",
     "output_type": "stream",
     "text": [
      "Function get_image_langchain_content took 3.742758 seconds to run\n",
      "Function preprocess_text took 0.005345 seconds to run\n",
      "Function summarize_text_openai took 3.182736 seconds to run\n",
      "Function process_image took 6.930839 seconds to run\n",
      "Anethol, a naturally occurring compound found in anise, fennel, and Clausena anisata, has a regulatory status of FEMA GRAS and FDA GRAS. Studies indicate that anethol is largely excreted in urine. Human studies show that a 500 mg oral dose is excreted as hydroxybenzoic acid and 5-methoxybenzoic acid, while a 1 g dose yields detectable blood levels. In rodents, anethol undergoes extensive metabolism, primarily through oxidation. It has shown modest enzyme induction effects in female rats. Anethol appears to be a potent inducer of hepatic enzyme activity in screening studies with rats and mice.\n"
     ]
    }
   ],
   "source": [
    "from langchain_community.document_loaders.image import UnstructuredImageLoader\n",
    "import warnings\n",
    "import nltk\n",
    "import re\n",
    "from nltk.corpus import stopwords\n",
    "from nltk.stem import PorterStemmer, WordNetLemmatizer\n",
    "import openai\n",
    "import os\n",
    "from dotenv import load_dotenv\n",
    "\n",
    "warnings.filterwarnings(\"ignore\")\n",
    "\n",
    "# Download necessary NLTK data\n",
    "nltk.download('punkt')\n",
    "nltk.download('stopwords')\n",
    "nltk.download('wordnet')\n",
    "\n",
    "load_dotenv()  # take environment variables from .env.\n",
    "@time_it\n",
    "def get_image_langchain_content(image_path):\n",
    "    loader = UnstructuredImageLoader(image_path)\n",
    "    data = loader.load()\n",
    "    image_content = data[0].page_content\n",
    "    return image_content\n",
    "@time_it\n",
    "def preprocess_text(text):\n",
    "    words = nltk.word_tokenize(text)\n",
    "    words = [word.lower() for word in words]\n",
    "    words = [word for word in words if word.isalnum()]\n",
    "    stop_words = set(stopwords.words('english'))\n",
    "    words = [word for word in words if word not in stop_words]\n",
    "    stemmer = PorterStemmer()\n",
    "    stemmed_words = [stemmer.stem(word) for word in words]\n",
    "    lemmatizer = WordNetLemmatizer()\n",
    "    lemmatized_words = [lemmatizer.lemmatize(word) for word in stemmed_words]\n",
    "    processed_text = ' '.join(lemmatized_words)\n",
    "    return processed_text\n",
    "@time_it\n",
    "def summarize_text_openai(text):\n",
    "    client = OpenAI(api_key=Open_api_key)\n",
    "    MODEL = \"gpt-4o\"\n",
    "    response = client.chat.completions.create(\n",
    "        model=MODEL,\n",
    "        messages=[\n",
    "            {\"role\": \"system\", \"content\": \"You are a helpful assistant\"},\n",
    "            {\"role\": \"user\", \"content\": f\"Summarize this text in not more than 100 words trying to capture each real detail: {text}\"}\n",
    "        ],\n",
    "        temperature=0.0,\n",
    "    )\n",
    "\n",
    "    output = response.choices[0].message.content.lstrip('```json').rstrip('```')\n",
    "    return output\n",
    "\n",
    "@time_it\n",
    "def process_image(image_path):\n",
    "    text = get_image_langchain_content(image_path)\n",
    "    preprocessed_text = preprocess_text(text)\n",
    "    summary = summarize_text_openai(preprocessed_text)\n",
    "    return summary\n",
    "\n",
    "image_path = r\"C:\\Users\\Anime\\Downloads\\soul_ai\\dataset\\Scientific\\87678393_87678399.jpg\"  # Replace with the path to your image\n",
    "summary = process_image(image_path)\n",
    "print(summary)\n"
   ]
  },
  {
   "cell_type": "code",
   "execution_count": null,
   "metadata": {},
   "outputs": [],
   "source": []
  }
 ],
 "metadata": {
  "kernelspec": {
   "display_name": ".env",
   "language": "python",
   "name": "python3"
  },
  "language_info": {
   "codemirror_mode": {
    "name": "ipython",
    "version": 3
   },
   "file_extension": ".py",
   "mimetype": "text/x-python",
   "name": "python",
   "nbconvert_exporter": "python",
   "pygments_lexer": "ipython3",
   "version": "3.11.7"
  }
 },
 "nbformat": 4,
 "nbformat_minor": 2
}
