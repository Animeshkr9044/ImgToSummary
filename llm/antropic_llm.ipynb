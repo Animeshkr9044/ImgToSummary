{
 "cells": [
  {
   "cell_type": "code",
   "execution_count": null,
   "metadata": {},
   "outputs": [],
   "source": []
  },
  {
   "cell_type": "code",
   "execution_count": 2,
   "metadata": {},
   "outputs": [
    {
     "name": "stdout",
     "output_type": "stream",
     "text": [
      "Collecting langchain-anthropic\n",
      "  Obtaining dependency information for langchain-anthropic from https://files.pythonhosted.org/packages/f9/5c/72c4ad2e4b1b2a491c3fb822e5d9331d822f4bf30ea5d5299cf96d3bea10/langchain_anthropic-0.1.17-py3-none-any.whl.metadata\n",
      "  Downloading langchain_anthropic-0.1.17-py3-none-any.whl.metadata (2.1 kB)\n",
      "Collecting anthropic<1,>=0.28.0 (from langchain-anthropic)\n",
      "  Obtaining dependency information for anthropic<1,>=0.28.0 from https://files.pythonhosted.org/packages/07/e9/149909f317fbdfde6e4f5c2ac20e571daddc80eac71b61eb82bd98f18306/anthropic-0.30.0-py3-none-any.whl.metadata\n",
      "  Downloading anthropic-0.30.0-py3-none-any.whl.metadata (18 kB)\n",
      "Collecting defusedxml<0.8.0,>=0.7.1 (from langchain-anthropic)\n",
      "  Obtaining dependency information for defusedxml<0.8.0,>=0.7.1 from https://files.pythonhosted.org/packages/07/6c/aa3f2f849e01cb6a001cd8554a88d4c77c5c1a31c95bdf1cf9301e6d9ef4/defusedxml-0.7.1-py2.py3-none-any.whl.metadata\n",
      "  Using cached defusedxml-0.7.1-py2.py3-none-any.whl.metadata (32 kB)\n",
      "Requirement already satisfied: langchain-core<0.3,>=0.2.10 in c:\\users\\anime\\downloads\\soul_ai\\.env\\lib\\site-packages (from langchain-anthropic) (0.2.10)\n",
      "Requirement already satisfied: anyio<5,>=3.5.0 in c:\\users\\anime\\downloads\\soul_ai\\.env\\lib\\site-packages (from anthropic<1,>=0.28.0->langchain-anthropic) (4.4.0)\n",
      "Requirement already satisfied: distro<2,>=1.7.0 in c:\\users\\anime\\downloads\\soul_ai\\.env\\lib\\site-packages (from anthropic<1,>=0.28.0->langchain-anthropic) (1.9.0)\n",
      "Requirement already satisfied: httpx<1,>=0.23.0 in c:\\users\\anime\\downloads\\soul_ai\\.env\\lib\\site-packages (from anthropic<1,>=0.28.0->langchain-anthropic) (0.27.0)\n",
      "Collecting jiter<1,>=0.4.0 (from anthropic<1,>=0.28.0->langchain-anthropic)\n",
      "  Obtaining dependency information for jiter<1,>=0.4.0 from https://files.pythonhosted.org/packages/ab/59/05d1c3203c349b37c4dd28b02b9b4e5915a7bcbd9319173b4548a67d2e93/jiter-0.5.0-cp311-none-win_amd64.whl.metadata\n",
      "  Downloading jiter-0.5.0-cp311-none-win_amd64.whl.metadata (3.7 kB)\n",
      "Requirement already satisfied: pydantic<3,>=1.9.0 in c:\\users\\anime\\downloads\\soul_ai\\.env\\lib\\site-packages (from anthropic<1,>=0.28.0->langchain-anthropic) (2.7.4)\n",
      "Requirement already satisfied: sniffio in c:\\users\\anime\\downloads\\soul_ai\\.env\\lib\\site-packages (from anthropic<1,>=0.28.0->langchain-anthropic) (1.3.1)\n",
      "Requirement already satisfied: tokenizers>=0.13.0 in c:\\users\\anime\\downloads\\soul_ai\\.env\\lib\\site-packages (from anthropic<1,>=0.28.0->langchain-anthropic) (0.19.1)\n",
      "Requirement already satisfied: typing-extensions<5,>=4.7 in c:\\users\\anime\\downloads\\soul_ai\\.env\\lib\\site-packages (from anthropic<1,>=0.28.0->langchain-anthropic) (4.12.2)\n",
      "Requirement already satisfied: PyYAML>=5.3 in c:\\users\\anime\\downloads\\soul_ai\\.env\\lib\\site-packages (from langchain-core<0.3,>=0.2.10->langchain-anthropic) (6.0.1)\n",
      "Requirement already satisfied: jsonpatch<2.0,>=1.33 in c:\\users\\anime\\downloads\\soul_ai\\.env\\lib\\site-packages (from langchain-core<0.3,>=0.2.10->langchain-anthropic) (1.33)\n",
      "Requirement already satisfied: langsmith<0.2.0,>=0.1.75 in c:\\users\\anime\\downloads\\soul_ai\\.env\\lib\\site-packages (from langchain-core<0.3,>=0.2.10->langchain-anthropic) (0.1.82)\n",
      "Requirement already satisfied: packaging<25,>=23.2 in c:\\users\\anime\\downloads\\soul_ai\\.env\\lib\\site-packages (from langchain-core<0.3,>=0.2.10->langchain-anthropic) (24.1)\n",
      "Requirement already satisfied: tenacity!=8.4.0,<9.0.0,>=8.1.0 in c:\\users\\anime\\downloads\\soul_ai\\.env\\lib\\site-packages (from langchain-core<0.3,>=0.2.10->langchain-anthropic) (8.4.2)\n",
      "Requirement already satisfied: idna>=2.8 in c:\\users\\anime\\downloads\\soul_ai\\.env\\lib\\site-packages (from anyio<5,>=3.5.0->anthropic<1,>=0.28.0->langchain-anthropic) (3.7)\n",
      "Requirement already satisfied: certifi in c:\\users\\anime\\downloads\\soul_ai\\.env\\lib\\site-packages (from httpx<1,>=0.23.0->anthropic<1,>=0.28.0->langchain-anthropic) (2024.6.2)\n",
      "Requirement already satisfied: httpcore==1.* in c:\\users\\anime\\downloads\\soul_ai\\.env\\lib\\site-packages (from httpx<1,>=0.23.0->anthropic<1,>=0.28.0->langchain-anthropic) (1.0.5)\n",
      "Requirement already satisfied: h11<0.15,>=0.13 in c:\\users\\anime\\downloads\\soul_ai\\.env\\lib\\site-packages (from httpcore==1.*->httpx<1,>=0.23.0->anthropic<1,>=0.28.0->langchain-anthropic) (0.14.0)\n",
      "Requirement already satisfied: jsonpointer>=1.9 in c:\\users\\anime\\downloads\\soul_ai\\.env\\lib\\site-packages (from jsonpatch<2.0,>=1.33->langchain-core<0.3,>=0.2.10->langchain-anthropic) (3.0.0)\n",
      "Requirement already satisfied: orjson<4.0.0,>=3.9.14 in c:\\users\\anime\\downloads\\soul_ai\\.env\\lib\\site-packages (from langsmith<0.2.0,>=0.1.75->langchain-core<0.3,>=0.2.10->langchain-anthropic) (3.10.5)\n",
      "Requirement already satisfied: requests<3,>=2 in c:\\users\\anime\\downloads\\soul_ai\\.env\\lib\\site-packages (from langsmith<0.2.0,>=0.1.75->langchain-core<0.3,>=0.2.10->langchain-anthropic) (2.32.3)\n",
      "Requirement already satisfied: annotated-types>=0.4.0 in c:\\users\\anime\\downloads\\soul_ai\\.env\\lib\\site-packages (from pydantic<3,>=1.9.0->anthropic<1,>=0.28.0->langchain-anthropic) (0.7.0)\n",
      "Requirement already satisfied: pydantic-core==2.18.4 in c:\\users\\anime\\downloads\\soul_ai\\.env\\lib\\site-packages (from pydantic<3,>=1.9.0->anthropic<1,>=0.28.0->langchain-anthropic) (2.18.4)\n",
      "Requirement already satisfied: huggingface-hub<1.0,>=0.16.4 in c:\\users\\anime\\downloads\\soul_ai\\.env\\lib\\site-packages (from tokenizers>=0.13.0->anthropic<1,>=0.28.0->langchain-anthropic) (0.23.4)\n",
      "Requirement already satisfied: filelock in c:\\users\\anime\\downloads\\soul_ai\\.env\\lib\\site-packages (from huggingface-hub<1.0,>=0.16.4->tokenizers>=0.13.0->anthropic<1,>=0.28.0->langchain-anthropic) (3.13.1)\n",
      "Requirement already satisfied: fsspec>=2023.5.0 in c:\\users\\anime\\downloads\\soul_ai\\.env\\lib\\site-packages (from huggingface-hub<1.0,>=0.16.4->tokenizers>=0.13.0->anthropic<1,>=0.28.0->langchain-anthropic) (2024.2.0)\n",
      "Requirement already satisfied: tqdm>=4.42.1 in c:\\users\\anime\\downloads\\soul_ai\\.env\\lib\\site-packages (from huggingface-hub<1.0,>=0.16.4->tokenizers>=0.13.0->anthropic<1,>=0.28.0->langchain-anthropic) (4.66.4)\n",
      "Requirement already satisfied: charset-normalizer<4,>=2 in c:\\users\\anime\\downloads\\soul_ai\\.env\\lib\\site-packages (from requests<3,>=2->langsmith<0.2.0,>=0.1.75->langchain-core<0.3,>=0.2.10->langchain-anthropic) (3.3.2)\n",
      "Requirement already satisfied: urllib3<3,>=1.21.1 in c:\\users\\anime\\downloads\\soul_ai\\.env\\lib\\site-packages (from requests<3,>=2->langsmith<0.2.0,>=0.1.75->langchain-core<0.3,>=0.2.10->langchain-anthropic) (2.2.2)\n",
      "Requirement already satisfied: colorama in c:\\users\\anime\\downloads\\soul_ai\\.env\\lib\\site-packages (from tqdm>=4.42.1->huggingface-hub<1.0,>=0.16.4->tokenizers>=0.13.0->anthropic<1,>=0.28.0->langchain-anthropic) (0.4.6)\n",
      "Downloading langchain_anthropic-0.1.17-py3-none-any.whl (19 kB)\n",
      "Downloading anthropic-0.30.0-py3-none-any.whl (863 kB)\n",
      "   ---------------------------------------- 0.0/863.5 kB ? eta -:--:--\n",
      "   ---------------------------------------- 0.0/863.5 kB ? eta -:--:--\n",
      "   ---------------------------------------- 0.0/863.5 kB ? eta -:--:--\n",
      "   - -------------------------------------- 41.0/863.5 kB ? eta -:--:--\n",
      "   ---- ----------------------------------- 92.2/863.5 kB 1.7 MB/s eta 0:00:01\n",
      "   ------------ --------------------------- 276.5/863.5 kB 2.8 MB/s eta 0:00:01\n",
      "   --------------------- ------------------ 471.0/863.5 kB 3.3 MB/s eta 0:00:01\n",
      "   ------------------------------- -------- 686.1/863.5 kB 3.6 MB/s eta 0:00:01\n",
      "   ---------------------------------------- 863.5/863.5 kB 3.6 MB/s eta 0:00:00\n",
      "Using cached defusedxml-0.7.1-py2.py3-none-any.whl (25 kB)\n",
      "Downloading jiter-0.5.0-cp311-none-win_amd64.whl (191 kB)\n",
      "   ---------------------------------------- 0.0/191.0 kB ? eta -:--:--\n",
      "   ---------------------------------------- 191.0/191.0 kB 5.6 MB/s eta 0:00:00\n",
      "Installing collected packages: jiter, defusedxml, anthropic, langchain-anthropic\n",
      "Successfully installed anthropic-0.30.0 defusedxml-0.7.1 jiter-0.5.0 langchain-anthropic-0.1.17\n"
     ]
    },
    {
     "name": "stderr",
     "output_type": "stream",
     "text": [
      "WARNING: Skipping C:\\Users\\Anime\\Downloads\\soul_ai\\.env\\Lib\\site-packages\\~ackaging-24.1.dist-info due to invalid metadata entry 'name'\n",
      "WARNING: Skipping C:\\Users\\Anime\\Downloads\\soul_ai\\.env\\Lib\\site-packages\\~ackaging-24.1.dist-info due to invalid metadata entry 'name'\n",
      "\n",
      "[notice] A new release of pip is available: 23.2.1 -> 24.1.1\n",
      "[notice] To update, run: python.exe -m pip install --upgrade pip\n"
     ]
    }
   ],
   "source": [
    "!pip install -U langchain-anthropic"
   ]
  },
  {
   "cell_type": "code",
   "execution_count": 3,
   "metadata": {},
   "outputs": [],
   "source": [
    "from langchain_anthropic import ChatAnthropic\n",
    "\n",
    "model = ChatAnthropic(model='claude-3-opus-20240229')"
   ]
  },
  {
   "cell_type": "code",
   "execution_count": 4,
   "metadata": {},
   "outputs": [
    {
     "ename": "",
     "evalue": "",
     "output_type": "error",
     "traceback": [
      "\u001b[1;31mThe Kernel crashed while executing code in the current cell or a previous cell. \n",
      "\u001b[1;31mPlease review the code in the cell(s) to identify a possible cause of the failure. \n",
      "\u001b[1;31mClick <a href='https://aka.ms/vscodeJupyterKernelCrash'>here</a> for more info. \n",
      "\u001b[1;31mView Jupyter <a href='command:jupyter.viewOutput'>log</a> for further details."
     ]
    }
   ],
   "source": [
    "import os\n",
    "from getpass import getpass\n",
    "\n",
    "os.environ[\"ANTHROPIC_API_KEY\"] = getpass()\n",
    "from langchain_openai import ChatOpenAI\n",
    "from langchain_anthropic import ChatAnthropic\n",
    "chat = ChatAnthropic(temperature=0, model_name=\"claude-3-opus-20240229\")\n",
    "\n",
    "\n"
   ]
  },
  {
   "cell_type": "code",
   "execution_count": null,
   "metadata": {},
   "outputs": [],
   "source": []
  }
 ],
 "metadata": {
  "kernelspec": {
   "display_name": ".env",
   "language": "python",
   "name": "python3"
  },
  "language_info": {
   "codemirror_mode": {
    "name": "ipython",
    "version": 3
   },
   "file_extension": ".py",
   "mimetype": "text/x-python",
   "name": "python",
   "nbconvert_exporter": "python",
   "pygments_lexer": "ipython3",
   "version": "3.11.7"
  }
 },
 "nbformat": 4,
 "nbformat_minor": 2
}
